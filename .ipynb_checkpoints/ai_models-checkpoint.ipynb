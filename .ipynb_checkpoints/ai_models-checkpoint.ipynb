{
 "cells": [
  {
   "cell_type": "markdown",
   "metadata": {},
   "source": [
    "**End goal: to predict the class (g or h)**\n"
   ]
  },
  {
   "cell_type": "code",
   "execution_count": null,
   "metadata": {},
   "source": [
    "# import necessary packages\n",
    "\n",
    "import numpy as np\n",
    "import pandas as pd\n",
    "import matplotlib.pyplot as plt\n",
    "from sklearn.preprocessing import StandardScaler\n",
    "from imblearn.over_sampling import RandomOverSampler"
   ],
   "outputs": []
  },
  {
   "cell_type": "code",
   "execution_count": null,
   "metadata": {},
   "source": [
    "# import the dataset and set the column names\n",
    "\n",
    "cols_name = ['fLength', 'fWidth', 'fSize', 'fConc', 'fConc1', 'fAsym', 'fM3Long', 'fM3Trans', 'fAlpha', 'fDist', 'class']\n",
    "\n",
    "df = pd.read_csv('./magic04.data', names=cols_name)"
   ],
   "outputs": []
  },
  {
   "cell_type": "code",
   "execution_count": null,
   "metadata": {},
   "source": [
    "# explore the dataset\n",
    "\n",
    "df.head()"
   ],
   "outputs": []
  },
  {
   "cell_type": "markdown",
   "metadata": {},
   "source": [
    "**Engineer the class column**\n"
   ]
  },
  {
   "cell_type": "code",
   "execution_count": null,
   "metadata": {},
   "source": [
    "# get the unique values of the class fields\n",
    "\n",
    "df['class'].unique()"
   ],
   "outputs": []
  },
  {
   "cell_type": "code",
   "execution_count": null,
   "metadata": {},
   "source": [
    "# convert all values of g to 1 and h to 0\n",
    "\n",
    "df['class'] = (df['class'] == 'g').astype(int)"
   ],
   "outputs": []
  },
  {
   "cell_type": "code",
   "execution_count": null,
   "metadata": {},
   "source": [
    "# explore the dataset\n",
    "\n",
    "df.head()"
   ],
   "outputs": []
  },
  {
   "cell_type": "markdown",
   "metadata": {},
   "source": [
    "**Data visualization**\n"
   ]
  },
  {
   "cell_type": "code",
   "execution_count": null,
   "metadata": {},
   "source": [
    "# plot a graph of the fields against the class since that's what i want my model to predict\n",
    "\n",
    "for label in cols_name[:-1]:\n",
    "    # alpha is transparency\n",
    "    # density is to normalize the distribution (distribute over all the samples available)\n",
    "    plt.hist(df[df['class'] == 1][label], color='blue',\n",
    "             label='gamma', alpha=0.7, density=True)\n",
    "    plt.hist(df[df['class'] == 0][label], color='red',\n",
    "             label='gamma', alpha=0.7, density=True)\n",
    "    plt.title(label)\n",
    "    # used probability cause can either be 1 (h) or 0 (g)\n",
    "    plt.ylabel(\"Probability\")\n",
    "    plt.xlabel(label)\n",
    "    plt.legend()\n",
    "    plt.show()"
   ],
   "outputs": []
  },
  {
   "cell_type": "markdown",
   "metadata": {},
   "source": [
    "**Splitting my dataset to train, validate and test**\n",
    "\n",
    "*train = 60%\n",
    "validate = 20%\n",
    "test = 20%*"
   ]
  },
  {
   "cell_type": "code",
   "execution_count": null,
   "metadata": {},
   "source": [
    "df_len = len(df)\n",
    "\n",
    "train, validate, test = np.split(df.sample(frac=1), [int(0.6 * df_len), int(0.2 * df_len)]) # df.sample(frac=1) to shuffle dataset"
   ],
   "outputs": []
  },
  {
   "cell_type": "markdown",
   "metadata": {},
   "source": [
    "once we sample the dataFrame we should note that the data are far apart \n",
    "hence there's a need to scale the dataset so that data should be relative to the mean and the standard deviation"
   ]
  },
  {
   "cell_type": "code",
   "execution_count": null,
   "metadata": {},
   "source": [
    "def scale_dataset(dataFrame, overSample = False):\n",
    "    X = dataFrame[dataFrame.columns[:-1]].values # this are the columns needed for the prediction\n",
    "    y = dataFrame[dataFrame.columns[-1]].values # this is the predicted column\n",
    "\n",
    "    scaler = StandardScaler()\n",
    "    X = scaler.fit_transform(X)\n",
    "\n",
    "    if overSample:\n",
    "        ros = RandomOverSampler()\n",
    "        X, y = ros.fit_resample(X, y) # take more of the less class and keep sampling from there(pad it) to fit the more class\n",
    "\n",
    "    # hstack = horizontal stack means place side by side\n",
    "    # since X has been modified there's a need to reshape Y hence np.reshape()\n",
    "    # np.reshape(y, (-1, 1)) -> makes this a 2D array and the -1 means to infer the dimension of the value i.e len(y) \n",
    "    data = np.hstack((X, np.reshape(y, (-1, 1))))\n",
    "\n",
    "    return data, X, y"
   ],
   "outputs": []
  },
  {
   "cell_type": "markdown",
   "metadata": {},
   "source": [
    "**Explore the data for 0 and 1 on train dataset**"
   ]
  },
  {
   "cell_type": "code",
   "execution_count": null,
   "metadata": {},
   "source": [
    "print(len(train[train['class'] == 1])) # gamma\n",
    "print(len(train[train['class'] == 0]))"
   ],
   "outputs": []
  },
  {
   "cell_type": "markdown",
   "metadata": {},
   "source": [
    "from this we can see that we've more 1s that 0s\n",
    "\n",
    "this might make the train data bias hence\n",
    "\n",
    "we need to over-sample to that the data matches "
   ]
  },
  {
   "cell_type": "code",
   "execution_count": null,
   "metadata": {},
   "source": [
    "train, Xtrain, ytrain = scale_dataset(train, overSample=True)"
   ],
   "outputs": []
  }
 ],
 "metadata": {
  "kernelspec": {
   "display_name": "base",
   "language": "python",
   "name": "python3"
  },
  "language_info": {
   "codemirror_mode": {
    "name": "ipython",
    "version": 3
   },
   "file_extension": ".py",
   "mimetype": "text/x-python",
   "name": "python",
   "nbconvert_exporter": "python",
   "pygments_lexer": "ipython3",
   "version": "3.11.5"
  }
 },
 "nbformat": 4,
 "nbformat_minor": 2
}
